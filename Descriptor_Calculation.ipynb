{
  "nbformat": 4,
  "nbformat_minor": 0,
  "metadata": {
    "colab": {
      "provenance": [],
      "include_colab_link": true
    },
    "kernelspec": {
      "name": "python3",
      "display_name": "Python 3"
    },
    "language_info": {
      "name": "python"
    }
  },
  "cells": [
    {
      "cell_type": "markdown",
      "metadata": {
        "id": "view-in-github",
        "colab_type": "text"
      },
      "source": [
        "<a href=\"https://colab.research.google.com/github/primalbioinformatics/drug-informatics/blob/main/Descriptor_Calculation.ipynb\" target=\"_parent\"><img src=\"https://colab.research.google.com/assets/colab-badge.svg\" alt=\"Open In Colab\"/></a>"
      ]
    },
    {
      "cell_type": "code",
      "execution_count": null,
      "metadata": {
        "id": "1kY3vUQt6c0D"
      },
      "outputs": [],
      "source": [
        "#Descriptors\n",
        "\n",
        "!pip install rdkit\n",
        "import pandas as pd\n",
        "from rdkit import Chem\n",
        "from rdkit.Chem import Descriptors\n",
        "\n",
        "df=pd.read_csv(\"/content/hinger_binder_diversity_set_11k.smi\", sep=\"\\t\", names=[\"SMILES\",\"ID\"])\n",
        "df[\"Canonical_SMILES\"]=df[\"SMILES\"].apply(Chem.CanonSmiles)\n",
        "def calculate_rule_of_five(mol):\n",
        "  return{\n",
        "      \"MW\": Descriptors.MolWt(mol),\n",
        "      \"LogP\": Descriptors.MolLogP(mol),\n",
        "      \"HBA\": Descriptors.NumHAcceptors(mol),\n",
        "      \"HBD\": Descriptors.NumHDonors(mol),\n",
        "      \"RotatableNonds\": Descriptors.NumRotatableBonds(mol)\n",
        "  }\n",
        "\n",
        "df_descriptors=pd.DataFrame([calculate_rule_of_five(Chem.MolFromSmiles(smiles)) for smiles in df[\"Canonical_SMILES\"]])\n",
        "df=pd.concat([df, df_descriptors], axis=1)\n",
        "df.to_csv(\"output_descriptors.csv\", index=False)"
      ]
    },
    {
      "cell_type": "code",
      "source": [
        "#QED\n",
        "\n",
        "import os\n",
        "import sys\n",
        "from rdkit import Chem\n",
        "from rdkit.Chem import QED\n",
        "\n",
        "file_name = sys.argv[1]\n",
        "sppl = Chem.SDMolSupplier(r\"/content/10k-mol.sdf\") #we are using sdf file of compounds here\n",
        "\n",
        "for mol in sppl:\n",
        "    print( QED.properties( mol ) )"
      ],
      "metadata": {
        "id": "VJ1jMwZhBFIx"
      },
      "execution_count": null,
      "outputs": []
    },
    {
      "cell_type": "code",
      "source": [
        "#GitHub\n",
        "\n",
        "!pip install rdkit-pypi\n",
        "!pip install mordred\n",
        "\n",
        "from rdkit.Chem import AllChem\n",
        "from rdkit import Chem\n",
        "from rdkit.Chem import Descriptors\n",
        "from rdkit.ML.Descriptors import MoleculeDescriptors\n",
        "import pandas as pd\n",
        "import numpy as np\n",
        "from mordred import Calculator, descriptors\n",
        "\n",
        "#INPUT\n",
        "input_smi= r\"/content/hinger_binder_diversity_set_11k.smi\"\n",
        "dataset = pd.read_csv(input_smi, sep=\"\\t\", names=[\"SMILES\", \"ID\"])\n",
        "\n",
        "#Canonical\n",
        "def canonical_smiles(smiles):\n",
        "    mols=[Chem.MolFromSmiles(smi) for smi in smiles]\n",
        "    smiles = [Chem.MolToSmiles(mol) for mol in mols]\n",
        "    return smiles\n",
        "\n",
        "Canon_SMILES = canonical_smiles(dataset.SMILES)\n",
        "len(Canon_SMILES)\n",
        "dataset['SMILES']=Canon_SMILES\n",
        "dataset\n",
        "\n",
        "#Duplicated smiles\n",
        "duplicates_smiles = dataset[dataset['SMILES'].duplicated()]['SMILES'].values\n",
        "len(duplicates_smiles)\n",
        "\n",
        "dataset[dataset['SMILES'].isin(duplicates_smiles)].sort_values(by=['SMILES'])\n",
        "dataset_new = dataset.drop_duplicates(subset=['SMILES'])\n",
        "dataset_new\n",
        "\n",
        "#Descriptor calculation\n",
        "def RDkit_descriptors(smiles):\n",
        "    mols = [Chem.MolFromSmiles(i) for i in smiles]\n",
        "    calc = MoleculeDescriptors.MolecularDescriptorCalculator([x[0] for x in Descriptors._descList])\n",
        "    desc_names = calc.GetDescriptorNames()\n",
        "\n",
        "    Mol_descriptors =[]\n",
        "    for mol in mols:\n",
        "        mol=Chem.AddHs(mol)\n",
        "        descriptors = calc.CalcDescriptors(mol)\n",
        "        Mol_descriptors.append(descriptors)\n",
        "    return Mol_descriptors,desc_names\n",
        "\n",
        "Mol_descriptors,desc_names = RDkit_descriptors(dataset_new['SMILES'])\n",
        "df_with_200_descriptors = pd.DataFrame(Mol_descriptors,columns=desc_names)\n",
        "df_with_200_descriptors\n",
        "\n",
        "#Mordred descriptor calculation\n",
        "def All_Mordred_descriptors(data):\n",
        "    calc = Calculator(descriptors, ignore_3D=False)\n",
        "    mols = [Chem.MolFromSmiles(smi) for smi in data]\n",
        "\n",
        "    # pandas df\n",
        "    df = calc.pandas(mols)\n",
        "    return df\n",
        "mordred_descriptors = All_Mordred_descriptors(dataset_new['SMILES'])\n",
        "mordred_descriptors"
      ],
      "metadata": {
        "id": "6W7hxVNrhOGp"
      },
      "execution_count": null,
      "outputs": []
    },
    {
      "cell_type": "markdown",
      "source": [
        "RULE OF THREE - 16 FRAGMENTS"
      ],
      "metadata": {
        "id": "gxLndeed5vQi"
      }
    },
    {
      "cell_type": "code",
      "source": [
        "import pandas as pd\n",
        "from rdkit import Chem\n",
        "from rdkit.Chem import Descriptors\n",
        "\n",
        "data = Chem.SDMolSupplier(\"/content/prep_fragments.sd\", removeHs=False)\n",
        "molecules = [i for i in data]\n",
        "\n",
        "smiles = [Chem.MolToSmiles(mol) for mol in molecules]\n",
        "\n",
        "canonical_smiles = [Chem.CanonSmiles(smi) for smi in smiles]\n",
        "\n",
        "df = pd.DataFrame({\"SMILES\": canonical_smiles})\n",
        "\n",
        "def calculate_rule_of_three(mol):\n",
        "    descriptors = {\n",
        "        \"MW\": Descriptors.MolWt(mol),\n",
        "        \"LogP\": Descriptors.MolLogP(mol),\n",
        "        \"HBA\": Descriptors.NumHAcceptors(mol),\n",
        "        \"HBD\": Descriptors.NumHDonors(mol)}\n",
        "    return descriptors\n",
        "\n",
        "df_descriptors = pd.DataFrame([calculate_rule_of_three(Chem.MolFromSmiles(smi)) for smi in df[\"SMILES\"]])\n",
        "\n",
        "df = pd.concat([df, df_descriptors], axis=1)\n",
        "\n",
        "df_rule_of_three = df[(df[\"MW\"] <= 300) & (df[\"LogP\"] <= 3) & (df[\"HBA\"] <= 3) & (df[\"HBD\"] <= 3)]\n",
        "\n",
        "print(f\"Number of molecules fulfilling the Rule of Three: {len(df_rule_of_three)}\")\n",
        "\n",
        "df_rule_of_three.to_csv(\"rule_of_three_output.csv\", index=False)\n"
      ],
      "metadata": {
        "colab": {
          "base_uri": "https://localhost:8080/"
        },
        "id": "sRyyJrV59eTi",
        "outputId": "0dee491c-2381-443c-ee2b-b5ff0743163c"
      },
      "execution_count": null,
      "outputs": [
        {
          "output_type": "stream",
          "name": "stdout",
          "text": [
            "Number of molecules fulfilling the Rule of Three: 16\n"
          ]
        }
      ]
    },
    {
      "cell_type": "code",
      "source": [
        "import seaborn as sns\n",
        "from IPython.display import display\n",
        "import matplotlib.pyplot as plt\n",
        "selection = ['MW','LogP','HBA','HBD']\n",
        "sns.pairplot(df[selection])\n",
        "plt.tight_layout()\n",
        "plt.savefig('Pairplot_RO3.png',dpi=300)"
      ],
      "metadata": {
        "id": "zabKABUe-pF6"
      },
      "execution_count": null,
      "outputs": []
    },
    {
      "cell_type": "markdown",
      "source": [
        "RULE OF THREE -  10,682 FRAGMENTS"
      ],
      "metadata": {
        "id": "4l5Pj2DV5yre"
      }
    },
    {
      "cell_type": "code",
      "source": [
        "import pandas as pd\n",
        "from rdkit import Chem\n",
        "from rdkit.Chem import Descriptors\n",
        "\n",
        "data = Chem.SDMolSupplier(\"/content/10k_prep_fragments.sdf\", removeHs=False)\n",
        "ids = [mol.GetProp(\"_Name\") for mol in data]\n",
        "molecules = [i for i in data]\n",
        "smiles = [Chem.MolToSmiles(mol) for mol in molecules]\n",
        "canonical_smiles = [Chem.CanonSmiles(smi) for smi in smiles]\n",
        "df = pd.DataFrame({\"SMILES\": canonical_smiles, \"ID\": ids})\n",
        "\n",
        "def calculate_rule_of_three(mol):\n",
        "\n",
        "    descriptors = {\n",
        "        \"MW\": Descriptors.MolWt(mol),\n",
        "        \"LogP\": Descriptors.MolLogP(mol),\n",
        "        \"HBA\": Descriptors.NumHAcceptors(mol),\n",
        "        \"HBD\": Descriptors.NumHDonors(mol),\n",
        "        \"Num_Violations\": 0,\n",
        "    }\n",
        "\n",
        "    # Check each rule (adapted from Response A)\n",
        "    if descriptors[\"MW\"] > 300:\n",
        "        descriptors[\"Num_Violations\"] += 1\n",
        "    if descriptors[\"LogP\"] > 3:\n",
        "        descriptors[\"Num_Violations\"] += 1\n",
        "    if descriptors[\"HBA\"] > 3:\n",
        "        descriptors[\"Num_Violations\"] += 1\n",
        "    if descriptors[\"HBD\"] > 3:\n",
        "        descriptors[\"Num_Violations\"] += 1\n",
        "    return descriptors\n",
        "\n",
        "# Calculate descriptors and identify valid/invalid molecules\n",
        "df_descriptors = pd.DataFrame([calculate_rule_of_three(Chem.MolFromSmiles(smi)) for smi in df[\"SMILES\"]])\n",
        "df = pd.concat([df, df_descriptors], axis=1)\n",
        "\n",
        "# Define validity criteria (one violation is valid)\n",
        "df_valid_1 = df[df[\"Num_Violations\"] == 1]\n",
        "df_valid_0 = df[df[\"Num_Violations\"] == 0]\n",
        "df_invalid_2 = df[df[\"Num_Violations\"] == 2]\n",
        "df_invalid_3 = df[df[\"Num_Violations\"] == 3]\n",
        "df_invalid_4 = df[df[\"Num_Violations\"] == 4]\n",
        "\n",
        "# Save to CSV files\n",
        "df_valid_1.to_csv(\"valid_molecules_1.csv\", index=False)\n",
        "df_valid_0.to_csv(\"valid_molecules_0.csv\", index=False)\n",
        "df_invalid_2.to_csv(\"invalid_molecules_2.csv\", index=False)\n",
        "df_invalid_3.to_csv(\"invalid_molecules_3.csv\", index=False)\n",
        "df_invalid_4.to_csv(\"invalid_molecules_4.csv\", index=False)\n",
        "\n",
        "print(f\"Number of valid molecules with 1 violation: {len(df_valid_1)}\")\n",
        "print(f\"Number of valid molecules with 0 violation: {len(df_valid_0)}\")\n",
        "print(f\"Number of invalid molecules with 2 violations: {len(df_invalid_2)}\")\n",
        "print(f\"Number of invalid molecules with 3 violations: {len(df_invalid_3)}\")\n",
        "print(f\"Number of invalid molecules with 4 violations: {len(df_invalid_4)}\")\n"
      ],
      "metadata": {
        "colab": {
          "base_uri": "https://localhost:8080/"
        },
        "id": "kAih_yQipEEq",
        "outputId": "95382576-8980-4676-86f8-6e9e1a41141d"
      },
      "execution_count": null,
      "outputs": [
        {
          "output_type": "stream",
          "name": "stdout",
          "text": [
            "Number of valid molecules with 1 violation: 4767\n",
            "Number of valid molecules with 0 violation: 5806\n",
            "Number of invalid molecules with 2 violations: 108\n",
            "Number of invalid molecules with 3 violations: 1\n",
            "Number of invalid molecules with 4 violations: 0\n"
          ]
        }
      ]
    },
    {
      "cell_type": "code",
      "source": [
        "import seaborn as sns\n",
        "from IPython.display import display\n",
        "import matplotlib.pyplot as plt\n",
        "#selection = ['MW','LogP','HBA','HBD']\n",
        "sns.pairplot(df_valid_0)\n",
        "plt.tight_layout()\n",
        "plt.savefig('Pairplot_RO3_0_violation.png',dpi=600)"
      ],
      "metadata": {
        "id": "6vegUT8n76dJ"
      },
      "execution_count": null,
      "outputs": []
    },
    {
      "cell_type": "code",
      "source": [
        "import seaborn as sns\n",
        "from IPython.display import display\n",
        "import matplotlib.pyplot as plt\n",
        "#selection = ['MW','LogP','HBA','HBD']\n",
        "sns.pairplot(df_valid_1)\n",
        "plt.tight_layout()\n",
        "plt.savefig('Pairplot_RO3_1_violation.png',dpi=600)"
      ],
      "metadata": {
        "id": "UexuVn3OGJs1"
      },
      "execution_count": null,
      "outputs": []
    },
    {
      "cell_type": "code",
      "source": [
        "import seaborn as sns\n",
        "from IPython.display import display\n",
        "import matplotlib.pyplot as plt\n",
        "#selection = ['MW','LogP','HBA','HBD']\n",
        "sns.pairplot(df_invalid_2)\n",
        "plt.tight_layout()\n",
        "plt.savefig('Pairplot_RO3_2_violations.png',dpi=600)"
      ],
      "metadata": {
        "id": "QqJkJlfZGeNY"
      },
      "execution_count": null,
      "outputs": []
    },
    {
      "cell_type": "code",
      "source": [
        "import seaborn as sns\n",
        "from IPython.display import display\n",
        "import matplotlib.pyplot as plt\n",
        "#selection = ['MW','LogP','HBA','HBD']\n",
        "sns.pairplot(df_invalid_3)\n",
        "plt.tight_layout()\n",
        "plt.savefig('Pairplot_RO3_3_violations.png',dpi=600)"
      ],
      "metadata": {
        "id": "cs8Os9y5GfKm"
      },
      "execution_count": null,
      "outputs": []
    },
    {
      "cell_type": "markdown",
      "source": [
        "3 Fragment Libraries"
      ],
      "metadata": {
        "id": "_JYrEgOCepp2"
      }
    },
    {
      "cell_type": "code",
      "source": [
        "!pip install rdkit"
      ],
      "metadata": {
        "colab": {
          "base_uri": "https://localhost:8080/"
        },
        "id": "s26nR8yXfEat",
        "outputId": "5fd290f5-4a6a-409e-983a-e809329285e0"
      },
      "execution_count": null,
      "outputs": [
        {
          "output_type": "stream",
          "name": "stdout",
          "text": [
            "Collecting rdkit\n",
            "  Downloading rdkit-2023.9.5-cp310-cp310-manylinux_2_17_x86_64.manylinux2014_x86_64.whl (34.4 MB)\n",
            "\u001b[2K     \u001b[90m━━━━━━━━━━━━━━━━━━━━━━━━━━━━━━━━━━━━━━━━\u001b[0m \u001b[32m34.4/34.4 MB\u001b[0m \u001b[31m35.6 MB/s\u001b[0m eta \u001b[36m0:00:00\u001b[0m\n",
            "\u001b[?25hRequirement already satisfied: numpy in /usr/local/lib/python3.10/dist-packages (from rdkit) (1.25.2)\n",
            "Requirement already satisfied: Pillow in /usr/local/lib/python3.10/dist-packages (from rdkit) (9.4.0)\n",
            "Installing collected packages: rdkit\n",
            "Successfully installed rdkit-2023.9.5\n"
          ]
        }
      ]
    },
    {
      "cell_type": "code",
      "source": [
        "import pandas as pd\n",
        "from rdkit import Chem\n",
        "from rdkit.Chem import Descriptors\n",
        "import numpy as np\n",
        "\n",
        "data = Chem.SDMolSupplier(\"/content/LC_Diversity_of_General_Fragments.sdf\", removeHs=False)\n",
        "ids = [mol.GetProp(\"_Name\") for mol in data]\n",
        "molecules = [i for i in data]\n",
        "smiles = [Chem.MolToSmiles(mol) for mol in molecules]\n",
        "canonical_smiles = [Chem.CanonSmiles(smi) for smi in smiles]\n",
        "\n",
        "duplicates = df[\"SMILES\"].duplicated()\n",
        "duplicates_count = duplicates.sum()\n",
        "df_duplicates = df[duplicates]\n",
        "df_duplicates[\"Count\"] = df_duplicates.groupby(\"SMILES\")[\"ID\"].transform(\"size\")\n",
        "df = pd.concat([df[~duplicates], df_duplicates], ignore_index=True)\n",
        "print(f\"Number of duplicate SMILES: {duplicates_count}\")\n",
        "\n",
        "unique_smiles, unique_indices = np.unique(canonical_smiles, return_index=True)\n",
        "df = pd.DataFrame({\"SMILES\": unique_smiles, \"ID\": [ids[i] for i in unique_indices]})\n",
        "\n",
        "def calculate_rule_of_three(mol):\n",
        "\n",
        "    descriptors = {\n",
        "        \"MW\": Descriptors.MolWt(mol),\n",
        "        \"LogP\": Descriptors.MolLogP(mol),\n",
        "        \"HBA\": Descriptors.NumHAcceptors(mol),\n",
        "        \"HBD\": Descriptors.NumHDonors(mol),\n",
        "        \"Num_Violations\": 0,\n",
        "    }\n",
        "\n",
        "    # Check each rule (adapted from Response A)\n",
        "    if descriptors[\"MW\"] > 300:\n",
        "        descriptors[\"Num_Violations\"] += 1\n",
        "    if descriptors[\"LogP\"] > 3:\n",
        "        descriptors[\"Num_Violations\"] += 1\n",
        "    if descriptors[\"HBA\"] > 3:\n",
        "        descriptors[\"Num_Violations\"] += 1\n",
        "    if descriptors[\"HBD\"] > 3:\n",
        "        descriptors[\"Num_Violations\"] += 1\n",
        "    return descriptors\n",
        "\n",
        "# Calculate descriptors and identify valid/invalid molecules\n",
        "df_descriptors = pd.DataFrame([calculate_rule_of_three(Chem.MolFromSmiles(smi)) for smi in df[\"SMILES\"]])\n",
        "df = pd.concat([df, df_descriptors], axis=1)\n",
        "\n",
        "# Define validity criteria (one violation is valid)\n",
        "df_valid_1 = df[df[\"Num_Violations\"] == 1]\n",
        "df_valid_0 = df[df[\"Num_Violations\"] == 0]\n",
        "df_invalid_2 = df[df[\"Num_Violations\"] == 2]\n",
        "df_invalid_3 = df[df[\"Num_Violations\"] == 3]\n",
        "df_invalid_4 = df[df[\"Num_Violations\"] == 4]\n",
        "\n",
        "# Save to CSV files\n",
        "df_valid_1.to_csv(\"valid_molecules_1.csv\", index=False)\n",
        "df_valid_0.to_csv(\"valid_molecules_0.csv\", index=False)\n",
        "df_invalid_2.to_csv(\"invalid_molecules_2.csv\", index=False)\n",
        "df_invalid_3.to_csv(\"invalid_molecules_3.csv\", index=False)\n",
        "df_invalid_4.to_csv(\"invalid_molecules_4.csv\", index=False)\n",
        "\n",
        "print(f\"Number of valid molecules with 1 violation: {len(df_valid_1)}\")\n",
        "print(f\"Number of valid molecules with 0 violation: {len(df_valid_0)}\")\n",
        "print(f\"Number of invalid molecules with 2 violations: {len(df_invalid_2)}\")\n",
        "print(f\"Number of invalid molecules with 3 violations: {len(df_invalid_3)}\")\n",
        "print(f\"Number of invalid molecules with 4 violations: {len(df_invalid_4)}\")"
      ],
      "metadata": {
        "colab": {
          "base_uri": "https://localhost:8080/"
        },
        "id": "FTfhUJvgepHS",
        "outputId": "f70eee08-b87a-4517-e60d-e082063b9b1f"
      },
      "execution_count": null,
      "outputs": [
        {
          "output_type": "stream",
          "name": "stderr",
          "text": [
            "<ipython-input-7-1370505cf1d5>:15: SettingWithCopyWarning: \n",
            "A value is trying to be set on a copy of a slice from a DataFrame.\n",
            "Try using .loc[row_indexer,col_indexer] = value instead\n",
            "\n",
            "See the caveats in the documentation: https://pandas.pydata.org/pandas-docs/stable/user_guide/indexing.html#returning-a-view-versus-a-copy\n",
            "  df_duplicates[\"Count\"] = df_duplicates.groupby(\"SMILES\")[\"ID\"].transform(\"size\")\n"
          ]
        },
        {
          "output_type": "stream",
          "name": "stdout",
          "text": [
            "Number of duplicate SMILES: 3200\n",
            "Number of valid molecules with 1 violation: 39230\n",
            "Number of valid molecules with 0 violation: 20103\n",
            "Number of invalid molecules with 2 violations: 2235\n",
            "Number of invalid molecules with 3 violations: 101\n",
            "Number of invalid molecules with 4 violations: 4\n"
          ]
        }
      ]
    },
    {
      "cell_type": "code",
      "source": [],
      "metadata": {
        "id": "RaKbrw9xfBzr"
      },
      "execution_count": null,
      "outputs": []
    }
  ]
}