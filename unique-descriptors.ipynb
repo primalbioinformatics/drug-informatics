{
  "nbformat": 4,
  "nbformat_minor": 0,
  "metadata": {
    "colab": {
      "provenance": [],
      "authorship_tag": "ABX9TyP33zC6nS8ZAA3h+0DMS57z",
      "include_colab_link": true
    },
    "kernelspec": {
      "name": "python3",
      "display_name": "Python 3"
    },
    "language_info": {
      "name": "python"
    }
  },
  "cells": [
    {
      "cell_type": "markdown",
      "metadata": {
        "id": "view-in-github",
        "colab_type": "text"
      },
      "source": [
        "<a href=\"https://colab.research.google.com/github/primalbioinformatics/drug-informatics/blob/main/unique-descriptors.ipynb\" target=\"_parent\"><img src=\"https://colab.research.google.com/assets/colab-badge.svg\" alt=\"Open In Colab\"/></a>"
      ]
    },
    {
      "cell_type": "code",
      "execution_count": null,
      "metadata": {
        "id": "_oAHJAXZ8ECz"
      },
      "outputs": [],
      "source": [
        "import pandas as pd\n",
        "import numpy as np\n",
        "from itertools import combinations\n",
        "from tqdm import tqdm\n",
        "from sklearn.metrics import r2_score\n",
        "\n",
        "x_df = pd.read_csv('calculated_descriptors.csv', index_col='ID')\n",
        "\n",
        "pairs = list(combinations(x_df.columns, 2))\n",
        "\n",
        "remove = []\n",
        "\n",
        "for pair in tqdm(pairs):\n",
        "\n",
        "    a0 = x_df[pair[0]].values\n",
        "    a1 = x_df[pair[1]].values\n",
        "\n",
        "    if r2_score(a1, a0) > 0.95:\n",
        "        remove.append(pair[0])\n",
        "\n",
        "remove = list(dict.fromkeys(remove))\n",
        "\n",
        "x_df.drop(columns=remove, inplace=True)\n",
        "\n",
        "x_df.to_csv('unique_descriptors.csv')"
      ]
    }
  ]
}